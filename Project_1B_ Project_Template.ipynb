{
 "cells": [
  {
   "cell_type": "markdown",
   "metadata": {
    "editable": true
   },
   "source": [
    "# Part I. ETL Pipeline for Pre-Processing the Files"
   ]
  },
  {
   "cell_type": "markdown",
   "metadata": {
    "editable": true
   },
   "source": [
    "## PLEASE RUN THE FOLLOWING CODE FOR PRE-PROCESSING THE FILES"
   ]
  },
  {
   "cell_type": "markdown",
   "metadata": {
    "editable": true
   },
   "source": [
    "#### Import Python packages "
   ]
  },
  {
   "cell_type": "code",
   "execution_count": 1,
   "metadata": {
    "editable": true
   },
   "outputs": [],
   "source": [
    "# Import Python packages \n",
    "import pandas as pd\n",
    "import cassandra\n",
    "import re\n",
    "import os\n",
    "import glob\n",
    "import numpy as np\n",
    "import json\n",
    "import csv"
   ]
  },
  {
   "cell_type": "markdown",
   "metadata": {
    "editable": true
   },
   "source": [
    "#### Creating list of filepaths to process original event csv data files"
   ]
  },
  {
   "cell_type": "code",
   "execution_count": 2,
   "metadata": {
    "editable": true
   },
   "outputs": [
    {
     "name": "stdout",
     "output_type": "stream",
     "text": [
      "/home/workspace\n"
     ]
    }
   ],
   "source": [
    "# checking your current working directory\n",
    "print(os.getcwd())\n",
    "\n",
    "# Get your current folder and subfolder event data\n",
    "filepath = os.getcwd() + '/event_data'\n",
    "\n",
    "# Create a for loop to create a list of files and collect each filepath\n",
    "for root, dirs, files in os.walk(filepath):\n",
    "    # join the file path and roots with the subdirectories using glob\n",
    "    file_path_list = glob.glob(os.path.join(root, '*'))\n",
    "# print(file_path_list)\n"
   ]
  },
  {
   "cell_type": "markdown",
   "metadata": {
    "editable": true
   },
   "source": [
    "#### Processing the files to create the data file csv that will be used for Apache Casssandra tables"
   ]
  },
  {
   "cell_type": "code",
   "execution_count": 3,
   "metadata": {
    "editable": true
   },
   "outputs": [],
   "source": [
    "# initiating an empty list of rows that will be generated from each file\n",
    "full_data_rows_list = []\n",
    "# for every filepath in the file path list\n",
    "for f in file_path_list:\n",
    "    # reading csv file\n",
    "    with open(f, 'r', encoding='utf8', newline='') as csvfile:\n",
    "        # creating a csv reader object\n",
    "        csvreader = csv.reader(csvfile)\n",
    "        next(csvreader)\n",
    "        # extracting each data row one by one and append it\n",
    "        for line in csvreader:\n",
    "            # print(line)\n",
    "            full_data_rows_list.append(line)\n",
    "# creating a smaller event data csv file called event_datafile_full csv\n",
    "# that will be used to insert data into the\n",
    "# Apache Cassandra tables\n",
    "csv.register_dialect('myDialect', quoting=csv.QUOTE_ALL, skipinitialspace=True)\n",
    "\n",
    "with open('event_datafile_new.csv', 'w', encoding='utf8', newline='') as f:\n",
    "    writer = csv.writer(f, dialect='myDialect')\n",
    "    writer.writerow(['artist', 'firstName', 'gender', 'itemInSession',\n",
    "                     'lastName', 'length', 'level', 'location', 'sessionId',\n",
    "                     'song', 'userId'])\n",
    "    for row in full_data_rows_list:\n",
    "        if (row[0] == ''):\n",
    "            continue\n",
    "        writer.writerow((row[0], row[2], row[3], row[4], row[5], row[6],\n",
    "                         row[7], row[8], row[12], row[13], row[16]))\n"
   ]
  },
  {
   "cell_type": "code",
   "execution_count": 4,
   "metadata": {
    "editable": true
   },
   "outputs": [
    {
     "name": "stdout",
     "output_type": "stream",
     "text": [
      "6821\n"
     ]
    }
   ],
   "source": [
    "# check the number of rows in your csv file\n",
    "with open('event_datafile_new.csv', 'r', encoding='utf8') as f:\n",
    "    print(sum(1 for line in f))\n"
   ]
  },
  {
   "cell_type": "markdown",
   "metadata": {
    "editable": true
   },
   "source": [
    "# Part II. Complete the Apache Cassandra coding portion of your project. \n",
    "\n",
    "## Now you are ready to work with the CSV file titled <font color=red>event_datafile_new.csv</font>, located within the Workspace directory.  The event_datafile_new.csv contains the following columns: \n",
    "- artist \n",
    "- firstName of user\n",
    "- gender of user\n",
    "- item number in session\n",
    "- last name of user\n",
    "- length of the song\n",
    "- level (paid or free song)\n",
    "- location of the user\n",
    "- sessionId\n",
    "- song title\n",
    "- userId\n",
    "\n",
    "The image below is a screenshot of what the denormalized data should appear like in the <font color=red>**event_datafile_new.csv**</font> after the code above is run:<br>\n",
    "\n",
    "<img src=\"images/image_event_datafile_new.jpg\">"
   ]
  },
  {
   "cell_type": "markdown",
   "metadata": {
    "editable": true
   },
   "source": [
    "## Begin writing your Apache Cassandra code in the cells below"
   ]
  },
  {
   "cell_type": "markdown",
   "metadata": {
    "editable": true
   },
   "source": [
    "#### Creating a Cluster"
   ]
  },
  {
   "cell_type": "code",
   "execution_count": 5,
   "metadata": {
    "editable": true
   },
   "outputs": [],
   "source": [
    "# This should make a connection to a Cassandra instance your local machine\n",
    "# (127.0.0.1)\n",
    "\n",
    "from cassandra.cluster import Cluster\n",
    "cluster = Cluster(['127.0.0.1'])\n",
    "\n",
    "# To establish connection and begin executing queries, need a session\n",
    "session = cluster.connect()\n"
   ]
  },
  {
   "cell_type": "markdown",
   "metadata": {
    "editable": true
   },
   "source": [
    "#### Create Keyspace"
   ]
  },
  {
   "cell_type": "code",
   "execution_count": 6,
   "metadata": {
    "editable": true
   },
   "outputs": [],
   "source": [
    "# TO-DO: Create a Keyspace\n",
    "try:\n",
    "    session.execute(\"\"\"\n",
    "    CREATE KEYSPACE IF NOT EXISTS udacity \n",
    "    WITH REPLICATION = { 'class' : 'SimpleStrategy', 'replication_factor' : 1 }\n",
    "    \"\"\")\n",
    "except Exception as e:\n",
    "    print(e)"
   ]
  },
  {
   "cell_type": "markdown",
   "metadata": {
    "editable": true
   },
   "source": [
    "#### Set Keyspace"
   ]
  },
  {
   "cell_type": "code",
   "execution_count": 7,
   "metadata": {
    "editable": true
   },
   "outputs": [],
   "source": [
    "# TO-DO: Set KEYSPACE to the keyspace specified above\n",
    "try:\n",
    "    session.set_keyspace('udacity')\n",
    "    \n",
    "except Exception as e:\n",
    "    print(e)"
   ]
  },
  {
   "cell_type": "markdown",
   "metadata": {
    "editable": true
   },
   "source": [
    "### Now we need to create tables to run the following queries. Remember, with Apache Cassandra you model the database tables on the queries you want to run."
   ]
  },
  {
   "cell_type": "markdown",
   "metadata": {
    "editable": true
   },
   "source": [
    "## Create queries to ask the following three questions of the data\n",
    "\n",
    "### 1. Give me the artist, song title and song's length in the music app history that was heard during  sessionId = 338, and itemInSession  = 4\n",
    "\n",
    "\n",
    "### 2. Give me only the following: name of artist, song (sorted by itemInSession) and user (first and last name) for userid = 10, sessionid = 182\n",
    "    \n",
    "\n",
    "### 3. Give me every user name (first and last) in my music app history who listened to the song 'All Hands Against His Own'\n",
    "\n",
    "\n"
   ]
  },
  {
   "cell_type": "code",
   "execution_count": 9,
   "metadata": {
    "editable": true
   },
   "outputs": [],
   "source": [
    "query = \"CREATE TABLE IF NOT EXISTS Artist_Song_by_sessionId\"\n",
    "query = query + \"(sessionId int, itemInSession int, artist text, song varchar,  \\\n",
    "                  length float, primary key ((sessionId, itemInSession)))\"\n",
    "\n",
    "try:\n",
    "    session.execute(query)\n",
    "except Exception as e:\n",
    "    print(e)\n"
   ]
  },
  {
   "cell_type": "code",
   "execution_count": 10,
   "metadata": {
    "editable": true
   },
   "outputs": [],
   "source": [
    "# We have provided part of the code to set up the CSV file. Please complete\n",
    "# the Apache Cassandra code below\n",
    "file = 'event_datafile_new.csv'\n",
    "\n",
    "with open(file, encoding='utf8') as f:\n",
    "    csvreader = csv.reader(f)\n",
    "    next(csvreader)  # skip header\n",
    "    for line in csvreader:\n",
    "        # TO-DO: Assign the INSERT statements into the `query` variable\n",
    "        query = \"INSERT INTO Artist_Song_by_sessionId (sessionId, \\\n",
    "                 itemInSession, artist, song, length)\"\n",
    "        query = query + \" VALUES (%s, %s, %s, %s ,%s)\"\n",
    "        session.execute(query, (int(line[8]), int(line[3]), line[0], line[9], float(line[5])))\n"
   ]
  },
  {
   "cell_type": "markdown",
   "metadata": {
    "editable": true
   },
   "source": [
    "#### Do a SELECT to verify that the data have been inserted into each table"
   ]
  },
  {
   "cell_type": "code",
   "execution_count": 11,
   "metadata": {
    "editable": true,
    "scrolled": true
   },
   "outputs": [
    {
     "name": "stdout",
     "output_type": "stream",
     "text": [
      "Faithless | Music Matters (Mark Knight Dub) | 495.30731201171875\n"
     ]
    }
   ],
   "source": [
    "# Query Description: In this query, I used sessionid and iteminsession \\\n",
    "# as the partition key. The combination of both uniquely identifies \\\n",
    "# the rows, since some rows got same sessionid but are uniquely \\\n",
    "# identified by iteminsession.\n",
    "query = \"select artist, song, length from Artist_Song_by_sessionId \\\n",
    "        where itemInSession=4 and sessionId=338\"\n",
    "try:\n",
    "    rows = session.execute(query)\n",
    "except Exception as e:\n",
    "    print(e)\n",
    "for row in rows:\n",
    "    print (row.artist, \"|\", row.song, \"|\", row.length)\n"
   ]
  },
  {
   "cell_type": "markdown",
   "metadata": {
    "editable": true
   },
   "source": [
    "### COPY AND REPEAT THE ABOVE THREE CELLS FOR EACH OF THE THREE QUESTIONS"
   ]
  },
  {
   "cell_type": "code",
   "execution_count": 12,
   "metadata": {
    "editable": true
   },
   "outputs": [],
   "source": [
    "query = \"CREATE TABLE IF NOT EXISTS Song_info_Sorted_byuserid_sessionid\"\n",
    "query = query + \"(userid int, sessionid int, iteminsession int, \\\n",
    "                  artist text, song varchar, firstname text, lastname text, \\\n",
    "                  primary key ((userid, sessionid),iteminsession))\"\n",
    "try:\n",
    "    session.execute(query)\n",
    "except Exception as e:\n",
    "    print(e)\n"
   ]
  },
  {
   "cell_type": "code",
   "execution_count": 13,
   "metadata": {
    "editable": true
   },
   "outputs": [],
   "source": [
    "# We have provided part of the code to set up the CSV file. Please complete\n",
    "# the Apache Cassandra code below#\n",
    "file = 'event_datafile_new.csv'\n",
    "with open(file, encoding='utf8') as f:\n",
    "    csvreader = csv.reader(f)\n",
    "    next(csvreader)  # skip header\n",
    "    for line in csvreader:\n",
    "        # TO-DO: Assign the INSERT statements into the `query` variable\n",
    "        query = \"INSERT INTO Song_info_Sorted_byuserid_sessionid \\\n",
    "                  (userid, sessionid, iteminsession, artist, song, \\\n",
    "                  firstname, lastname)\"\n",
    "        query = query + \" VALUES (%s, %s, %s, %s ,%s , %s ,%s)\"\n",
    "        session.execute(query, (int(line[10]), int(line[8]), int(line[3]), line[0],\n",
    "                                line[9], line[1], line[4]))\n"
   ]
  },
  {
   "cell_type": "code",
   "execution_count": 14,
   "metadata": {
    "editable": true
   },
   "outputs": [
    {
     "name": "stdout",
     "output_type": "stream",
     "text": [
      "Down To The Bone | Keep On Keepin' On | Sylvie | Cruz | 182 | 10\n",
      "Three Drives | Greece 2000 | Sylvie | Cruz | 182 | 10\n",
      "Sebastien Tellier | Kilometer | Sylvie | Cruz | 182 | 10\n",
      "Lonnie Gordon | Catch You Baby (Steve Pitron & Max Sanna Radio Edit) | Sylvie | Cruz | 182 | 10\n"
     ]
    }
   ],
   "source": [
    "# Query Description: In this query, I used userid or sessionid as \\\n",
    "# partition key cause i am filtering by them and since we need to sort by \\\n",
    "# iteminsession i used it as my clustering key.\n",
    "\n",
    "query = \"select artist, song, firstname, lastname, \\\n",
    "         sessionid, userid, iteminsession \\\n",
    "         from Song_info_Sorted_byuserid_sessionid \\\n",
    "         where userid=10 and sessionid=182\"\n",
    "try:\n",
    "    rows = session.execute(query)\n",
    "except Exception as e:\n",
    "    print(e)\n",
    "for row in rows:\n",
    "    print (row.artist, \"|\", row.song, \"|\", row.firstname, \"|\", row.lastname,\n",
    "           \"|\", row.sessionid, \"|\", row.userid)\n"
   ]
  },
  {
   "cell_type": "code",
   "execution_count": 15,
   "metadata": {
    "editable": true
   },
   "outputs": [],
   "source": [
    "query = \"CREATE TABLE IF NOT EXISTS FullName_Sorted_bysong\"\n",
    "query = query + \"(song varchar, firstname text, lastname text, \\\n",
    "                  iteminsession int, primary key ((song),iteminsession))\"\n",
    "try:\n",
    "    session.execute(query)\n",
    "except Exception as e:\n",
    "    print(e)\n"
   ]
  },
  {
   "cell_type": "code",
   "execution_count": 16,
   "metadata": {
    "editable": true
   },
   "outputs": [],
   "source": [
    "# We have provided part of the code to set up the CSV file.\n",
    "# Please complete the Apache Cassandra code below#\n",
    "file = 'event_datafile_new.csv'\n",
    "with open(file, encoding='utf8') as f:\n",
    "    csvreader = csv.reader(f)\n",
    "    next(csvreader)  # skip header\n",
    "    for line in csvreader:\n",
    "        # TO-DO: Assign the INSERT statements into the `query` variable\n",
    "        query = \"INSERT INTO FullName_Sorted_bysong (song, firstname, lastname, iteminsession)\"\n",
    "        query = query + \" VALUES (%s, %s, %s, %s\n",
    "        session.execute(query, (line[9], line[1], line[4], int(line[3])))\n"
   ]
  },
  {
   "cell_type": "code",
   "execution_count": 17,
   "metadata": {
    "editable": true
   },
   "outputs": [
    {
     "name": "stdout",
     "output_type": "stream",
     "text": [
      "Tegan | Levine | All Hands Against His Own | 25\n",
      "Sara | Johnson | All Hands Against His Own | 31\n",
      "Jacqueline | Lynch | All Hands Against His Own | 50\n"
     ]
    }
   ],
   "source": [
    "# Query Description: In this query, Since i am filtring by song i will use \\\n",
    "# it as partition key, as for uniquly sorted rows i will use iteminsession\n",
    "query = \"select firstname, lastname, song, iteminsession \\\n",
    "         from FullName_Sorted_bysong \\\n",
    "         where song='All Hands Against His Own'\"\n",
    "try:\n",
    "    rows = session.execute(query)\n",
    "except Exception as e:\n",
    "    print(e)\n",
    "for row in rows:\n",
    "    print(row.firstname, \"|\", row.lastname, \"|\", row.song,\n",
    "          \"|\", row.iteminsession)\n"
   ]
  },
  {
   "cell_type": "markdown",
   "metadata": {
    "editable": true
   },
   "source": [
    "### Drop the tables before closing out the sessions"
   ]
  },
  {
   "cell_type": "code",
   "execution_count": 18,
   "metadata": {
    "editable": true
   },
   "outputs": [],
   "source": [
    "query = \"drop table Artist_Song_by_sessionId\"\n",
    "try:\n",
    "    rows = session.execute(query)\n",
    "except Exception as e:\n",
    "    print(e)\n"
   ]
  },
  {
   "cell_type": "code",
   "execution_count": 19,
   "metadata": {
    "editable": true
   },
   "outputs": [],
   "source": [
    "query = \"drop table Song_info_Sorted_byuserid_sessionid\"\n",
    "try:\n",
    "    rows = session.execute(query)\n",
    "except Exception as e:\n",
    "    print(e)\n"
   ]
  },
  {
   "cell_type": "code",
   "execution_count": 20,
   "metadata": {
    "editable": true
   },
   "outputs": [],
   "source": [
    "query = \"drop table FullName_Sorted_bysong\"\n",
    "try:\n",
    "    rows = session.execute(query)\n",
    "except Exception as e:\n",
    "    print(e)\n"
   ]
  },
  {
   "cell_type": "markdown",
   "metadata": {
    "editable": true
   },
   "source": [
    "### Close the session and cluster connection¶"
   ]
  },
  {
   "cell_type": "code",
   "execution_count": 21,
   "metadata": {
    "editable": true
   },
   "outputs": [],
   "source": [
    "session.shutdown()\n",
    "cluster.shutdown()\n"
   ]
  },
  {
   "cell_type": "code",
   "execution_count": null,
   "metadata": {
    "editable": true
   },
   "outputs": [],
   "source": []
  }
 ],
 "metadata": {
  "kernelspec": {
   "display_name": "Python 3",
   "language": "python",
   "name": "python3"
  },
  "language_info": {
   "codemirror_mode": {
    "name": "ipython",
    "version": 3
   },
   "file_extension": ".py",
   "mimetype": "text/x-python",
   "name": "python",
   "nbconvert_exporter": "python",
   "pygments_lexer": "ipython3",
   "version": "3.6.3"
  }
 },
 "nbformat": 4,
 "nbformat_minor": 4
}
